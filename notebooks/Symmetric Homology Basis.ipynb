{
 "cells": [
  {
   "cell_type": "markdown",
   "metadata": {},
   "source": [
    "# Symmetric Homology Basis\n",
    "\n",
    "This notebook serves as a testing bed for the development of an algorithm to compute a \"symmetric homology basis\" $(\\mathcal{A}, \\mathcal{B})$ for a real plane algebraic curve. Such a basis satisfies\n",
    "\n",
    "$$\\begin{pmatrix} \\tau \\mathcal{A} \\\\ \\tau \\mathcal{B} \\end{pmatrix} = \\begin{pmatrix} \\mathbb{I}_g & 0 \\\\ \\mathbb{H} & \\mathbb{I}_g \\end{pmatrix} \\begin{pmatrix} \\mathcal{A} \\\\ \\mathcal{B} \\end{pmatrix}$$\n",
    "\n",
    "where $\\tau$ is an anti-holomorphic involution of the real curve and $\\mathbb{H}$ is a symmetric, block-diagonal matrix determined by the \"topological type\" of the curve. In short, the topological type has to do with the real oval structure of the curve.\n",
    "\n",
    "There is a collection of examples from \"Computing the Topological Type of a Real Riemann Surface\" by. C. Kalla and C. Klein."
   ]
  },
  {
   "cell_type": "code",
   "execution_count": 433,
   "metadata": {
    "collapsed": false
   },
   "outputs": [
    {
     "name": "stdout",
     "output_type": "stream",
     "text": [
      "[0.0235*I 0.0138*I 0.0138*I]\n",
      "[     0.0 0.0277*I      0.0]\n",
      "[ -0.0315      0.0    0.025]\n",
      "\n",
      "[-0.0315 + 0.0235*I           0.0138*I  -0.025 + 0.0138*I]\n",
      "[               0.0  -0.025 + 0.0277*I              0.025]\n",
      "[         -0.0235*I           0.0138*I           0.0138*I]\n"
     ]
    }
   ],
   "source": [
    "#\n",
    "# Example a- and b-periods from the Trott curve\n",
    "#\n",
    "\n",
    "# trott curve: H=0, Q=I\n",
    "atrott = Matrix(CDF,\n",
    "  [[ 0.0000 + 0.0235*I, 0.0000 + 0.0138*I, 0.0000 + 0.0138*I],\n",
    "   [ 0.0000 + 0.0000*I, 0.0000 + 0.0277*I, 0.0000 + 0.0000*I],\n",
    "   [-0.0315 + 0.0000*I, 0.0000 + 0.0000*I, 0.0250 + 0.0000*I]])\n",
    "btrott = Matrix(CDF,\n",
    "  [[-0.0315 + 0.0235*I, 0.0000 + 0.0138*I,-0.0250 + 0.0138*I],\n",
    "   [ 0.0000 + 0.0000*I,-0.0250 + 0.0277*I, 0.0250 + 0.0000*I],\n",
    "   [ 0.0000 - 0.0235*I, 0.0000 + 0.0138*I, 0.0000 + 0.0138*I]])\n",
    "\n",
    "# klein curve:\n",
    "aklein = Matrix(CDF,\n",
    "  [[-0.9667 + 0.7709*I, 0.9667 + 0.2206*I, 0.9667 - 2.0073*I],\n",
    "   [-1.2054 - 0.2751*I,-0.4302 + 0.8933*I,-1.7419 + 1.3891*I],\n",
    "   [-0.4302 - 0.8933*I, 1.7419 + 1.3891*I,-1.2054 + 0.2751*I]])\n",
    "\n",
    "bklein = Matrix(CDF,\n",
    "  [[-2.7085 - 0.6182*I,-0.2387 + 0.4958*I, 1.3969 - 1.1140*I],\n",
    "   [-2.1721 - 1.7322*I, 0.5365 - 0.1224*I,-0.7753 - 1.6097*I],\n",
    "   [ 0.9667 + 0.2206*I,-0.9667 + 2.0073*I,-0.9667 + 0.7709*I]])\n",
    "\n",
    "# fermat curve:\n",
    "afermat = Matrix(CDF,\n",
    "  [[0.9270 + 0.0000*I, 0.0000 - 0.9270*I, 0.0000 - 0.9270*I],\n",
    "   [0.0000 + 0.0000*I, 0.0000 + 0.0000*I, 0.0000 - 1.8541*I],\n",
    "   [0.0000 + 0.9270*I,-0.9270 + 0.0000*I, 0.0000 - 0.9270*I]])\n",
    "bfermat = Matrix(CDF,\n",
    "  [[0.9270 + 0.9270*I, 0.9270 - 0.9270*I, 0.0000 + 0.0000*I],\n",
    "   [0.0000 + 0.0000*I,-0.9270 + 0.9270*I, 0.9270 - 0.9270*I],\n",
    "   [-0.9270+ 0.0000*I, 0.0000 - 0.9270*I, 0.0000 - 0.9270*I]])\n",
    "\n",
    "# a genus six curve (NOTE: need more digits of accuracy. A^{-1}B is not a Riemann matrix)\n",
    "acurve6 = Matrix(CDF,\n",
    "  [[ 0.0414 + 0.0278*I,-0.0345 + 0.0272*I,-0.0979 + 0.0264*I,-0.3041 + 0.0603*I,-0.5369 + 0.0872*I,-2.8149 + 0.5433*I],\n",
    "   [-0.1149 - 0.0446*I, 0.0000 - 0.0000*I, 0.0532 - 0.0226*I, 0.0000 - 0.0000*I, 0.2427 + 0.0099*I, 0.7641 + 0.0357*I],\n",
    "   [ 0.1149 + 0.0169*I,-0.0000 + 0.0544*I,-0.0532 - 0.0805*I,-0.0000 + 0.1206*I,-0.2427 - 0.2372*I,-0.7641 - 0.5381*I],\n",
    "   [ 0.0000 - 0.0111*I, 0.0000 + 0.0183*I, 0.0000 - 0.0303*I, 0.0000 + 0.1114*I, 0.0000 - 0.1843*I, 0.0000 - 1.1224*I],\n",
    "   [ 0.0820 - 0.0278*I, 0.0000 + 0.0000*I,-0.0527 - 0.1031*I, 0.0000 + 0.0000*I,-0.0881 - 0.2274*I,-0.1275 - 0.5024*I],\n",
    "   [-0.0820 - 0.0000*I,-0.0000 - 0.0544*I, 0.0527 - 0.0000*I,-0.0000 - 0.1206*I, 0.0881 - 0.0000*I, 0.1275 - 0.0000*I]])\n",
    "bcurve6 = Matrix(CDF,\n",
    "  [[ 0.0414 + 0.0278*I,-0.0345 - 0.0094*I,-0.0979 + 0.0264*I,-0.3041 - 0.1626*I,-0.5369 + 0.0872*I,-2.8149 + 0.5433*I],\n",
    "   [-0.0089 - 0.1009*I,-0.0666 + 0.0180*I, 0.1091 - 0.0733*I,-0.1162 + 0.0046*I, 0.3380 - 0.1055*I, 0.9555 - 0.2619*I],\n",
    "   [-0.0089 - 0.0563*I,-0.0666 - 0.0180*I, 0.1091 - 0.0507*I,-0.1162 - 0.0046*I, 0.3380 - 0.1154*I, 0.9555 - 0.2976*I],\n",
    "   [ 0.0320 - 0.0000*I, 0.0000 - 0.0183*I, 0.1425 - 0.0000*I, 0.0000 - 0.1114*I, 0.8311 - 0.0000*I, 4.8657 - 0.0000*I],\n",
    "   [ 0.1060 + 0.0286*I, 0.0666 + 0.0724*I, 0.0559 - 0.0525*I, 0.1162 + 0.1252*I, 0.0954 - 0.1120*I, 0.1914 - 0.2048*I],\n",
    "   [-0.0580 + 0.0160*I, 0.0666 - 0.0363*I, 0.1614 + 0.0751*I, 0.1162 - 0.1160*I, 0.2716 + 0.1021*I, 0.4464 + 0.1691*I]])\n",
    "\n",
    "\n",
    "##############################\n",
    "# PICK YOUR EXAMPLE\n",
    "##############################\n",
    "Pa = afermat\n",
    "Pb = bfermat\n",
    "g,g = Pa.dimensions()\n",
    "\n",
    "print Pa\n",
    "print\n",
    "print Pb"
   ]
  },
  {
   "cell_type": "code",
   "execution_count": 435,
   "metadata": {
    "collapsed": false
   },
   "outputs": [
    {
     "name": "stdout",
     "output_type": "stream",
     "text": [
      "1.08578804874\n",
      "[2.0343295301055297, 0.7136568436103655 + 0.35072484572742124*I, 0.7136568436103655 - 0.35072484572742124*I]\n"
     ]
    }
   ],
   "source": [
    "# check that the matrix A^{-1}B is a Riemann matrix\n",
    "# note that this is difficult with only four digits\n",
    "# of accuracy...\n",
    "#\n",
    "def Im(M):\n",
    "    return M.apply_map(imag)\n",
    "\n",
    "Omega = Pa.inverse()*Pb\n",
    "Y = Im(Omega)\n",
    "\n",
    "print (Omega - Omega.T).norm()\n",
    "print Y.eigenvalues()"
   ]
  },
  {
   "cell_type": "markdown",
   "metadata": {},
   "source": [
    "# Construct $R$ - Transformation Matrix\n",
    "\n",
    "Definition in Equation (23), construction from Prop. 3.1.\n",
    "\n",
    "Given an arbitraty homology basis $\\tilde{\\mathcal{A}}, \\tilde{\\mathcal{B}}$ the action of $\\tau$ on said basis is given by left-multiplication by a matrix $R$:\n",
    "\n",
    "$$\\begin{pmatrix}\\tau \\tilde{\\mathcal{A}} \\\\ \\tau \\tilde{\\mathcal{B}} \\end{pmatrix} = R \\begin{pmatrix}\\tilde{\\mathcal{A}} \\\\  \\tilde{\\mathcal{B}} \\end{pmatrix}$$"
   ]
  },
  {
   "cell_type": "code",
   "execution_count": 437,
   "metadata": {
    "collapsed": false
   },
   "outputs": [
    {
     "name": "stdout",
     "output_type": "stream",
     "text": [
      "[-1  0  0  0  0  0]\n",
      "[ 0 -1  0  0  0  0]\n",
      "[ 0  0  1  0  0  0]\n",
      "[-2  0  0  1  0  0]\n",
      "[ 0 -2  0  0  1  0]\n",
      "[ 0  0  0  0  0 -1]\n"
     ]
    }
   ],
   "source": [
    "def Re(M):\n",
    "    return M.apply_map(real)   \n",
    "def Im(M):\n",
    "    return M.apply_map(imag)\n",
    " \n",
    "# tau action matrix    \n",
    "R_RDF = Matrix(RDF, 2*g, 2*g)\n",
    "\n",
    "Ig = identity_matrix(RDF, g)\n",
    "M = Im(Pb.T)*Re(Pa) - Im(Pa.T)*Re(Pb)\n",
    "Minv = M.inverse()\n",
    "\n",
    "R_RDF[:g,:g] = (2*Re(Pb)*Minv*Im(Pa.T) + Ig).T\n",
    "R_RDF[:g,g:] = -2*Re(Pa)*Minv*Im(Pa.T)\n",
    "R_RDF[g:,:g] = 2*Re(Pb)*Minv*Im(Pb.T)\n",
    "R_RDF[g:,g:] = -(2*Re(Pb)*Minv*Im(Pa.T) + Ig)  # ! .T or not .T\n",
    "\n",
    "R = R_RDF.apply_map(round).change_ring(ZZ)\n",
    "print R"
   ]
  },
  {
   "cell_type": "code",
   "execution_count": 439,
   "metadata": {
    "collapsed": false
   },
   "outputs": [
    {
     "name": "stdout",
     "output_type": "stream",
     "text": [
      "[1, 1, 1, -1, -1, -1]\n"
     ]
    }
   ],
   "source": [
    "# tests\n",
    "#\n",
    "evals = R.eigenvalues()\n",
    "assert set(evals) == {1.0, -1.0}  # eigenvalues should be -1 or +1\n",
    "print evals"
   ]
  },
  {
   "cell_type": "code",
   "execution_count": 440,
   "metadata": {
    "collapsed": false
   },
   "outputs": [],
   "source": [
    "assert norm(R - R_RDF) < 1e-3     # matrix should be integral"
   ]
  },
  {
   "cell_type": "markdown",
   "metadata": {},
   "source": [
    "# Compute the Smith Normal Form\n",
    "\n",
    "Compute the $\\mathbb{Z}$-basis $(S_1 \\; S_2)^T \\in \\mathbb{Z}^{2g \\times g}$ of the space $\\mathcal{K}_\\mathbb{Z} = \\text{ker}(R^T -  \\mathbb{I}_2g)$ using the Smith normal form\n",
    "\n",
    "$$ UKV = S $$"
   ]
  },
  {
   "cell_type": "code",
   "execution_count": 448,
   "metadata": {
    "collapsed": false
   },
   "outputs": [
    {
     "name": "stdout",
     "output_type": "stream",
     "text": [
      "K =\n",
      "[-2  0  0 -2  0  0]\n",
      "[ 0 -2  0  0 -2  0]\n",
      "[ 0  0  0  0  0  0]\n",
      "[ 0  0  0  0  0  0]\n",
      "[ 0  0  0  0  0  0]\n",
      "[ 0  0  0  0  0 -2]\n",
      "\n",
      "rank:  3\n",
      "genus: 3\n"
     ]
    }
   ],
   "source": [
    "K = R.T - identity_matrix(ZZ, 2*g)\n",
    "print 'K =\\n', K\n",
    "\n",
    "m,n = K.dimensions()\n",
    "r = K.rank()\n",
    "\n",
    "print '\\nrank: ', r\n",
    "print 'genus:', g\n",
    "assert r == g"
   ]
  },
  {
   "cell_type": "code",
   "execution_count": 451,
   "metadata": {
    "collapsed": false
   },
   "outputs": [
    {
     "name": "stdout",
     "output_type": "stream",
     "text": [
      "S =\n",
      "[ 0 -1  0]\n",
      "[-1  0  0]\n",
      "[ 0  0  1]\n",
      "[ 0  1  0]\n",
      "[ 1  0  0]\n",
      "[ 0  0  0]\n"
     ]
    }
   ],
   "source": [
    "# a Z-basis of the integer kernel of K is given by the last n-r column\n",
    "# vectors of the matrix V\n",
    "#\n",
    "D,U,V = K.smith_form()\n",
    "S = V[:,(n-r):]\n",
    "S1 = S[:g,:]\n",
    "S2 = S[g:,:]\n",
    "\n",
    "print 'S =\\n', S"
   ]
  },
  {
   "cell_type": "markdown",
   "metadata": {},
   "source": [
    "# Compute the Matrix $N_1$\n",
    "\n",
    "Compute the Smith normal form of $S$,\n",
    "\n",
    "$$ USV = \\mathcal{E},$$\n",
    "\n",
    "let\n",
    "\n",
    "$$\\tilde{N} = 2U \\begin{pmatrix} -\\text{Re}(P_{\\tilde{\\mathcal{B}}}) \\\\ \\text{Re}(P_{\\tilde{\\mathcal{A}}}) \\end{pmatrix} \\left[ S_1^T\\text{Re}(P_{\\tilde{\\mathcal{A}}}) + S_2^T \\text{Re}(P_{\\tilde{\\mathcal{B}}})\\right]^{-1},$$\n",
    "\n",
    "and define\n",
    "\n",
    "$$N_1 = V N_{1:g,1:g}.$$\n",
    "\n",
    "(The upper $g \\times g$ block of $\\tilde{N}$."
   ]
  },
  {
   "cell_type": "code",
   "execution_count": 452,
   "metadata": {
    "collapsed": false
   },
   "outputs": [
    {
     "data": {
      "text/plain": [
       "[ 0 -1  0]\n",
       "[-1  0  0]\n",
       "[ 0  0  1]\n",
       "[ 0  1  0]\n",
       "[ 1  0  0]\n",
       "[ 0  0  0]"
      ]
     },
     "execution_count": 452,
     "metadata": {},
     "output_type": "execute_result"
    }
   ],
   "source": [
    "S"
   ]
  },
  {
   "cell_type": "code",
   "execution_count": 457,
   "metadata": {
    "collapsed": false
   },
   "outputs": [
    {
     "name": "stdout",
     "output_type": "stream",
     "text": [
      "N1 =\n",
      "[2.0 0.0 0.0]\n",
      "[0.0 2.0 0.0]\n",
      "[0.0 0.0 0.0]\n",
      "=\n",
      "[0 0 0]\n",
      "[0 0 0]\n",
      "[0 0 0]\n",
      "(mod 2)\n"
     ]
    }
   ],
   "source": [
    "ES, US, VS = S.smith_form()\n",
    "\n",
    "Nper = zero_matrix(RDF, 2*g,g)\n",
    "Nper[:g,:] = -Re(Pb)\n",
    "Nper[g:,:] = Re(Pa)\n",
    "\n",
    "Nhat = (S1.T*Re(Pa) + S2.T*Re(Pb)).inverse()\n",
    "\n",
    "Ntilde = 2*US*Nper*Nhat\n",
    "N1_RDF = VS*Ntilde[:g,:]\n",
    "N1 = N1_RDF.round().change_ring(GF(2)) \n",
    "\n",
    "\n",
    "print 'N1 ='\n",
    "print N1_RDF\n",
    "print '='\n",
    "print N1\n",
    "print '(mod 2)'"
   ]
  },
  {
   "cell_type": "markdown",
   "metadata": {},
   "source": [
    "# Compute $Q$ and $\\mathbb{H}$ from $N_1$\n",
    "\n",
    "These matrices satisfy\n",
    "\n",
    "$$Q \\mathbb{H} Q^T \\equiv N_1 \\bmod{2}.$$\n",
    "\n",
    "We start with the expected answers from \"Computing the Topological Type\"."
   ]
  },
  {
   "cell_type": "code",
   "execution_count": 462,
   "metadata": {
    "collapsed": false
   },
   "outputs": [
    {
     "name": "stdout",
     "output_type": "stream",
     "text": [
      "H =\n",
      "[0 0 0]\n",
      "[0 0 0]\n",
      "[0 0 0]\n",
      "Q =\n",
      "[1 0 0]\n",
      "[0 1 0]\n",
      "[0 0 1]\n"
     ]
    }
   ],
   "source": [
    "# trott solution:\n",
    "Htrott = zero_matrix(GF(2), 3)\n",
    "Qtrott = identity_matrix(GF(2), 3)\n",
    "\n",
    "# klein solution:\n",
    "Hklein = matrix(GF(2),\n",
    "                [[1,0,0],\n",
    "                 [0,1,0],\n",
    "                 [0,0,1]])\n",
    "Qklein = matrix(GF(2),  # from TopType but incorrect?\n",
    "                [[1,1,1],\n",
    "                 [0,0,1],\n",
    "                 [0,1,0]])\n",
    "Qklein = matrix(GF(2),  # from \"manual\" derivation\n",
    "                [[1,0,0],\n",
    "                 [0,1,0],\n",
    "                 [1,1,1]])\n",
    "\n",
    "# fermat solution:\n",
    "Hfermat = matrix(GF(2),\n",
    "                 [[0,1,0],\n",
    "                  [1,0,0],\n",
    "                  [0,0,0]])\n",
    "Qfermat = matrix(GF(2),\n",
    "                 [[1,0,0],\n",
    "                  [0,0,1],\n",
    "                  [0,1,0]])\n",
    "\n",
    "# genus 6 example solution:\n",
    "Hcurve6 = matrix(GF(2),\n",
    "                 [[0,1,0,0,0,0],\n",
    "                  [1,0,0,0,0,0],\n",
    "                  [0,0,0,1,0,0],\n",
    "                  [0,0,1,0,0,0],\n",
    "                  [0,0,0,0,0,0],\n",
    "                  [0,0,0,0,0,0]])\n",
    "Qcurve6 = matrix(GF(2),\n",
    "                 [[1,0,0,0,0,0],\n",
    "                  [0,1,0,0,0,0],\n",
    "                  [1,1,1,0,0,0],\n",
    "                  [0,1,0,0,1,0],\n",
    "                  [0,0,0,1,0,0],\n",
    "                  [0,0,0,0,1,1]])\n",
    "\n",
    "H = Hfermat\n",
    "Q = Qfermat\n",
    "\n",
    "print 'H =\\n', H\n",
    "print 'Q =\\n', Q\n",
    "\n"
   ]
  },
  {
   "cell_type": "code",
   "execution_count": 463,
   "metadata": {
    "collapsed": false
   },
   "outputs": [
    {
     "data": {
      "text/plain": [
       "True"
      ]
     },
     "execution_count": 463,
     "metadata": {},
     "output_type": "execute_result"
    }
   ],
   "source": [
    "N1 == Q*H*Q.T"
   ]
  },
  {
   "cell_type": "code",
   "execution_count": null,
   "metadata": {
    "collapsed": true
   },
   "outputs": [],
   "source": []
  },
  {
   "cell_type": "markdown",
   "metadata": {},
   "source": [
    "## Extra Code\n",
    "\n",
    "Reminding myself how to code up Gaussian elimination. (With pivoting.)"
   ]
  },
  {
   "cell_type": "code",
   "execution_count": 358,
   "metadata": {
    "collapsed": true
   },
   "outputs": [],
   "source": [
    "def gaussian_elimination(A):\n",
    "    m,n = A.dimensions()\n",
    "    if m != n:\n",
    "        raise ValueError('matrix must be square')\n",
    "    \n",
    "    # initialize P,L,U matrices\n",
    "    P = identity_matrix(A.base_ring(), m)\n",
    "    L = identity_matrix(A.base_ring(), m)\n",
    "    U = A.__copy__()\n",
    "    \n",
    "    # eliminate one column at a time\n",
    "    for k in range(m-1):\n",
    "        # find largest magnitude entry in current column below k\n",
    "        pivots = map(abs, U[k:,k])\n",
    "        i = pivots.index(max(pivots)) + k\n",
    "        \n",
    "        # swap rows i and k (only parts below [k,k])\n",
    "        U[k,k:], U[i,k:] = U[i,k:], U[k,k:]\n",
    "        L[k,:k], L[i,:k] = L[i,:k], L[k,:k]\n",
    "        P.swap_rows(i,k)\n",
    "        \n",
    "        # gaussian elimination\n",
    "        for j in range(k+1,m):\n",
    "            L[j,k] = U[j,k] / U[k,k]\n",
    "            U[j,k:] -= L[j,k]*U[k,k:]\n",
    "    return P,L,U\n",
    "\n",
    "def test_random_matrix(A):\n",
    "    P1,L1,U1 = A.LU()\n",
    "    P2,L2,U2 = gaussian_elimination(A)\n",
    "    assert P1*L1*U1 == P2.inverse()*L2*U2"
   ]
  },
  {
   "cell_type": "code",
   "execution_count": 359,
   "metadata": {
    "collapsed": false
   },
   "outputs": [],
   "source": [
    "for _ in range(100):\n",
    "    A = random_matrix(GF(2), 10,10)\n",
    "    if A.is_invertible():\n",
    "        test_random_matrix(A)"
   ]
  },
  {
   "cell_type": "markdown",
   "metadata": {
    "collapsed": false
   },
   "source": [
    "## Algorithm\n",
    "\n",
    "(Does not work, yet.)"
   ]
  },
  {
   "cell_type": "code",
   "execution_count": 464,
   "metadata": {
    "collapsed": false
   },
   "outputs": [],
   "source": [
    "def H_and_Q(N1):\n",
    "    N1 = N1.__copy__()\n",
    "    m,n = N1.dimensions()\n",
    "    if m != n:\n",
    "        raise ValueError('matrix must be square')\n",
    "        \n",
    "    # initialize H and Q matrices\n",
    "    g = m\n",
    "    H = zero_matrix(ZZ,g,g)\n",
    "    Q = identity_matrix(ZZ,g)\n",
    " \n",
    "    # if N1 = 0 mod(2) then return H=0 and Q=I\n",
    "    if (N1 % 2) == 0:\n",
    "        return H,Q\n",
    "    \n",
    "    j = 0\n",
    "    while j < g:\n",
    "        # if column j is zero, swap with the last column\n",
    "        # with non-zero entries (move zero columns to end)\n",
    "        if N1.column(j) == 0:\n",
    "            k = max(k for k in range(g) if N1.column(k) != 0)\n",
    "            N1.swap_columns(j,k)\n",
    "            \n",
    "        # if N1[j,j] = 1 then gaussian eliminate everything below\n",
    "        if N1[j,j] == 1:\n",
    "            for i in range(j+1,m):\n",
    "                pivot = N1[i,j] / N1[j,j]\n",
    "                N1[i,j:] -= pivot*N1[j,j:]\n",
    "                \n",
    "        # if there is a 1 in the column but not in position j then\n",
    "        # rows are swapped such that the 1 appears in position j+1\n",
    "        # of the column. eliminate further ones\n",
    "        ones = [i for i in range(j+1,g) if N1[i,j] == 1]\n",
    "        if ones != []:\n",
    "            i = min(ones)\n",
    "            N1.swap_rows(i,j+1)\n",
    "            for i in range(j+1,m):\n",
    "                pivot = N1[i,j] / N1[j,j]\n",
    "                N1[i,j:] -= pivot*N1[j,j:]\n",
    "        \n",
    "    return N1,H,Q\n",
    "        \n",
    " \n"
   ]
  }
 ],
 "metadata": {
  "kernelspec": {
   "display_name": "SageMath 6.10",
   "language": "",
   "name": "sagemath"
  },
  "language_info": {
   "codemirror_mode": {
    "name": "ipython",
    "version": 2
   },
   "file_extension": ".py",
   "mimetype": "text/x-python",
   "name": "python",
   "nbconvert_exporter": "python",
   "pygments_lexer": "ipython2",
   "version": "2.7.10"
  }
 },
 "nbformat": 4,
 "nbformat_minor": 0
}
