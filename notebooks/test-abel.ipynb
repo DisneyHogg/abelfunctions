{
 "metadata": {
  "name": "",
  "signature": "sha256:3adf64aa508c717868961f7b333a069e3a898d4bcb0e08115e1a3452cb0a09cb"
 },
 "nbformat": 3,
 "nbformat_minor": 0,
 "worksheets": [
  {
   "cells": [
    {
     "cell_type": "code",
     "collapsed": false,
     "input": [
      "import abelfunctions as ab\n",
      "import numpy\n",
      "import sympy\n",
      "\n",
      "from abelfunctions import *\n",
      "from sympy.abc import x,y\n",
      "\n",
      "#f = x**2*y**3 - x**4 + 1\n",
      "#f = y**2 - (x**2 - 1)*(x**2 - 4)*(x**2 - 9)*(x - 4)\n",
      "f = y**2 - (x**2 - 1)*(x**2 - 4)*(x**2 - 9)\n",
      "print f\n",
      "\n",
      "X = RiemannSurface(f,x,y)\n",
      "print X"
     ],
     "language": "python",
     "metadata": {},
     "outputs": [
      {
       "output_type": "stream",
       "stream": "stdout",
       "text": [
        "y**2 - (x**2 - 9)*(x**2 - 4)*(x**2 - 1)\n",
        "Riemann surface defined by the algebraic curve y**2 - (x**2 - 9)*(x**2 - 4)*(x**2 - 1)"
       ]
      },
      {
       "output_type": "stream",
       "stream": "stdout",
       "text": [
        "\n"
       ]
      }
     ],
     "prompt_number": 12
    },
    {
     "cell_type": "code",
     "collapsed": false,
     "input": [
      "Omega = X.riemann_matrix()"
     ],
     "language": "python",
     "metadata": {},
     "outputs": [],
     "prompt_number": 13
    },
    {
     "cell_type": "code",
     "collapsed": false,
     "input": [
      "print Omega.real\n",
      "print\n",
      "print Omega.imag"
     ],
     "language": "python",
     "metadata": {},
     "outputs": [
      {
       "output_type": "stream",
       "stream": "stdout",
       "text": [
        "[[-1.   1.5]\n",
        " [ 1.5 -1. ]]\n",
        "\n",
        "[[ 1.28502364 -0.72340536]\n",
        " [-0.72340536  0.72340536]]\n"
       ]
      }
     ],
     "prompt_number": 14
    },
    {
     "cell_type": "code",
     "collapsed": false,
     "input": [
      "omegas = X.holomorphic_differentials()"
     ],
     "language": "python",
     "metadata": {},
     "outputs": [],
     "prompt_number": 15
    },
    {
     "cell_type": "code",
     "collapsed": false,
     "input": [
      "for omega in omegas:\n",
      "    C = omega.valuation_divisor()\n",
      "    print 'omega =', omega\n",
      "    print '(omega)_val =', C"
     ],
     "language": "python",
     "metadata": {},
     "outputs": [
      {
       "ename": "ValueError",
       "evalue": "Could not find divisor of appropriate genus.",
       "output_type": "pyerr",
       "traceback": [
        "\u001b[0;31m---------------------------------------------------------------------------\u001b[0m\n\u001b[0;31mValueError\u001b[0m                                Traceback (most recent call last)",
        "\u001b[0;32m<ipython-input-17-8ed723cc494c>\u001b[0m in \u001b[0;36m<module>\u001b[0;34m()\u001b[0m\n\u001b[1;32m      1\u001b[0m \u001b[0;32mfor\u001b[0m \u001b[0momega\u001b[0m \u001b[0;32min\u001b[0m \u001b[0momegas\u001b[0m\u001b[0;34m:\u001b[0m\u001b[0;34m\u001b[0m\u001b[0m\n\u001b[0;32m----> 2\u001b[0;31m     \u001b[0mC\u001b[0m \u001b[0;34m=\u001b[0m \u001b[0momega\u001b[0m\u001b[0;34m.\u001b[0m\u001b[0mvaluation_divisor\u001b[0m\u001b[0;34m(\u001b[0m\u001b[0;34m)\u001b[0m\u001b[0;34m\u001b[0m\u001b[0m\n\u001b[0m\u001b[1;32m      3\u001b[0m     \u001b[0;32mprint\u001b[0m \u001b[0;34m'omega ='\u001b[0m\u001b[0;34m,\u001b[0m \u001b[0momega\u001b[0m\u001b[0;34m\u001b[0m\u001b[0m\n\u001b[1;32m      4\u001b[0m     \u001b[0;32mprint\u001b[0m \u001b[0;34m'(omega)_val ='\u001b[0m\u001b[0;34m,\u001b[0m \u001b[0mC\u001b[0m\u001b[0;34m\u001b[0m\u001b[0m\n",
        "\u001b[0;32m/Users/cswiercz/abelfunctions/abelfunctions/differentials.so\u001b[0m in \u001b[0;36mabelfunctions.differentials.Differential.valuation_divisor (abelfunctions/differentials.c:8178)\u001b[0;34m()\u001b[0m\n",
        "\u001b[0;31mValueError\u001b[0m: Could not find divisor of appropriate genus."
       ]
      }
     ],
     "prompt_number": 17
    },
    {
     "cell_type": "code",
     "collapsed": false,
     "input": [
      "places = X('oo')\n",
      "for P in places:\n",
      "    P.puiseux_series.add_term()\n",
      "    P.puiseux_series.add_term()\n",
      "    P.puiseux_series.add_term()\n",
      "    print P"
     ],
     "language": "python",
     "metadata": {},
     "outputs": [
      {
       "output_type": "stream",
       "stream": "stdout",
       "text": [
        "(1/t, 7/t + 18*t**3 + 126*t**5 + 882*t**7 + 6336*t**9 + 46620*t**11 + O(t**16))\n",
        "(1/t, -7/t - 18*t**3 - 126*t**5 - 882*t**7 - 6336*t**9 - 46620*t**11 + O(t**16))"
       ]
      },
      {
       "output_type": "stream",
       "stream": "stdout",
       "text": [
        "\n"
       ]
      }
     ],
     "prompt_number": 65
    },
    {
     "cell_type": "code",
     "collapsed": false,
     "input": [
      "series = ab.puiseux.puiseux(f,x,y,'oo')\n",
      "print 'series:', series"
     ],
     "language": "python",
     "metadata": {},
     "outputs": [
      {
       "output_type": "stream",
       "stream": "stdout",
       "text": [
        "series: [(1/t, O(t**2)), (1/t, O(t**2))]\n"
       ]
      }
     ],
     "prompt_number": 72
    },
    {
     "cell_type": "code",
     "collapsed": false,
     "input": [
      "d = sympy.degree(f,x)\n",
      "print d\n",
      "\n",
      "fa = sympy.expand(f.subs(x,1/x)*x**d)\n",
      "print fa"
     ],
     "language": "python",
     "metadata": {},
     "outputs": [
      {
       "output_type": "stream",
       "stream": "stdout",
       "text": [
        "6\n",
        "x**6*y**2 + 36*x**6 - 49*x**4 + 14*x**2 - 1\n"
       ]
      }
     ],
     "prompt_number": 75
    },
    {
     "cell_type": "code",
     "collapsed": false,
     "input": [
      "g,transform = ab.puiseux.almost_monicize(fa,x,y)\n",
      "_y = sympy.Symbol('_'+str(y))\n",
      "gx0y = ab.utilities.rootofsimp(g.subs(x,0))\n",
      "gx0y = gx0y.subs(y,_y).as_poly(_y)\n",
      "all_roots = gx0y.all_roots(radicals=False,multiple=False)\n",
      "roots,multiplicities = zip(*all_roots)\n",
      "\n",
      "print 'g(x,y) =', g\n",
      "print 'transform =', transform\n",
      "print\n",
      "print roots"
     ],
     "language": "python",
     "metadata": {},
     "outputs": [
      {
       "output_type": "stream",
       "stream": "stdout",
       "text": [
        "g(x,y) = 36*x**6 - 49*x**4 + 14*x**2 + y**2 - 1\n",
        "transform = x**3\n",
        "\n",
        "(-1, 1)\n"
       ]
      }
     ],
     "prompt_number": 79
    },
    {
     "cell_type": "code",
     "collapsed": false,
     "input": [
      "beta = roots[1]\n",
      "H = g.subs(y,y+beta)\n",
      "print H"
     ],
     "language": "python",
     "metadata": {},
     "outputs": [
      {
       "output_type": "stream",
       "stream": "stdout",
       "text": [
        "36*x**6 - 49*x**4 + 14*x**2 + (y + 1)**2 - 1\n"
       ]
      }
     ],
     "prompt_number": 96
    },
    {
     "cell_type": "code",
     "collapsed": false,
     "input": [
      "data = ab.puiseux.puiseux_rational(H,x,y)\n",
      "\n",
      "for G,P,Q in data:\n",
      "    Q += beta\n",
      "    Q /= transform.subs(x,P)\n",
      "    P = 1/P\n",
      "    \n",
      "    G = G.subs(x,t)\n",
      "    P = P.subs(x,t)\n",
      "    Q = Q.subs(x,t)\n",
      "    \n",
      "print P\n",
      "print Q"
     ],
     "language": "python",
     "metadata": {},
     "outputs": [
      {
       "output_type": "stream",
       "stream": "stdout",
       "text": [
        "1/t\n",
        "(y + 1)/t**3\n"
       ]
      }
     ],
     "prompt_number": 106
    },
    {
     "cell_type": "code",
     "collapsed": false,
     "input": [
      "ytilde = ab.puiseux.newton_iteration(G,t,y,16)\n",
      "Q.subs(y,ytilde).expand()"
     ],
     "language": "python",
     "metadata": {},
     "outputs": [
      {
       "metadata": {},
       "output_type": "pyout",
       "prompt_number": 107,
       "text": [
        "-46620*t**11 - 6336*t**9 - 882*t**7 - 126*t**5 - 18*t**3 - 7/t + t**(-3)"
       ]
      }
     ],
     "prompt_number": 107
    },
    {
     "cell_type": "code",
     "collapsed": false,
     "input": [
      "from sympy.abc import x,y,t\n",
      "import abelfunctions as ab\n",
      "\n",
      "f = (y - 1 - 2*x - x**2)*(y - 1 - 2*x - x**7)"
     ],
     "language": "python",
     "metadata": {},
     "outputs": [],
     "prompt_number": 1
    },
    {
     "cell_type": "code",
     "collapsed": false,
     "input": [
      "series = ab.puiseux.puiseux(f,x,y,'oo')\n",
      "for p in series:\n",
      "    p.add_term()\n",
      "    p.add_term()\n",
      "    print p"
     ],
     "language": "python",
     "metadata": {},
     "outputs": [
      {
       "output_type": "stream",
       "stream": "stdout",
       "text": [
        "(1/t, t**(-2) + 2/t + 1 + O(t**8))\n",
        "(1/t, t**(-7) + 2/t + 1 + O(t**8))\n"
       ]
      }
     ],
     "prompt_number": 17
    },
    {
     "cell_type": "code",
     "collapsed": false,
     "input": [
      "p.ypart"
     ],
     "language": "python",
     "metadata": {},
     "outputs": [
      {
       "metadata": {},
       "output_type": "pyout",
       "prompt_number": 12,
       "text": [
        "(y + 1)/t**7"
       ]
      }
     ],
     "prompt_number": 12
    },
    {
     "cell_type": "code",
     "collapsed": false,
     "input": [
      "series = ab.puiseux.puiseux(f,x,y,'oo')\n",
      "for p in series:\n",
      "    p.add_term()\n",
      "    p.add_term()\n",
      "    print p"
     ],
     "language": "python",
     "metadata": {},
     "outputs": [
      {
       "output_type": "stream",
       "stream": "stdout",
       "text": [
        "(1/t, t**(-2) + 2/t + 1 + O(t**8))\n",
        "(1/t, t**(-7) + 2/t + 1 + O(t**8))"
       ]
      },
      {
       "output_type": "stream",
       "stream": "stdout",
       "text": [
        "\n"
       ]
      }
     ],
     "prompt_number": 14
    },
    {
     "cell_type": "code",
     "collapsed": false,
     "input": [
      "P = places[0]\n",
      "\n",
      "print omega\n",
      "omega.localize(places[0])"
     ],
     "language": "python",
     "metadata": {},
     "outputs": [
      {
       "output_type": "stream",
       "stream": "stdout",
       "text": [
        "1/(2*y)\n"
       ]
      },
      {
       "metadata": {},
       "output_type": "pyout",
       "prompt_number": 66,
       "text": [
        "nan"
       ]
      }
     ],
     "prompt_number": 66
    },
    {
     "cell_type": "code",
     "collapsed": false,
     "input": [
      "from sympy.abc import t\n",
      "p = P.puiseux_series\n",
      "dxt = p.eval_x(t).diff(t)\n",
      "yt = p.eval_y(t)\n",
      "\n",
      "print 'dxt =', dxt\n",
      "print 'yt  =', yt"
     ],
     "language": "python",
     "metadata": {},
     "outputs": [
      {
       "output_type": "stream",
       "stream": "stdout",
       "text": [
        "dxt = -1/t**2\n",
        "yt  = 46620*t**11 + 6336*t**9 + 882*t**7 + 126*t**5 + 18*t**3 + 7/t\n"
       ]
      }
     ],
     "prompt_number": 67
    },
    {
     "cell_type": "code",
     "collapsed": false,
     "input": [
      "expr = (dxt/(2*yt))\n",
      "numer, denom = expr.cancel().as_numer_denom()\n",
      "\n",
      "print numer\n",
      "print denom"
     ],
     "language": "python",
     "metadata": {},
     "outputs": [
      {
       "output_type": "stream",
       "stream": "stdout",
       "text": [
        "-1\n",
        "93240*t**13 + 12672*t**11 + 1764*t**9 + 252*t**7 + 36*t**5 + 14*t\n"
       ]
      }
     ],
     "prompt_number": 68
    },
    {
     "cell_type": "code",
     "collapsed": false,
     "input": [
      "print (1/denom).nseries()"
     ],
     "language": "python",
     "metadata": {},
     "outputs": [
      {
       "output_type": "stream",
       "stream": "stdout",
       "text": [
        "1/(14*t) - 9*t**3/49 - 9*t**5/7 + O(t**6)\n"
       ]
      }
     ],
     "prompt_number": 69
    },
    {
     "cell_type": "code",
     "collapsed": false,
     "input": [],
     "language": "python",
     "metadata": {},
     "outputs": []
    },
    {
     "cell_type": "code",
     "collapsed": false,
     "input": [],
     "language": "python",
     "metadata": {},
     "outputs": []
    },
    {
     "cell_type": "code",
     "collapsed": false,
     "input": [
      "%matplotlib inline\n",
      "\n",
      "gamma = X.path(P)\n",
      "figx = gamma.segments[-2].plot_x(512)\n",
      "figy = gamma.segments[-2].plot_y(512,color='green')"
     ],
     "language": "python",
     "metadata": {},
     "outputs": [
      {
       "metadata": {},
       "output_type": "display_data",
       "png": "[encoded data removed]",
       "text": [
        "<matplotlib.figure.Figure at 0x108ca5190>"
       ]
      },
      {
       "metadata": {},
       "output_type": "display_data",
       "png": "[encoded data removed]",
       "text": [
        "<matplotlib.figure.Figure at 0x103ca1a50>"
       ]
      }
     ],
     "prompt_number": 5
    },
    {
     "cell_type": "code",
     "collapsed": false,
     "input": [
      "om = omega[0]"
     ],
     "language": "python",
     "metadata": {},
     "outputs": [],
     "prompt_number": 6
    },
    {
     "cell_type": "code",
     "collapsed": false,
     "input": [
      "fig = om.plot(gamma, grid=True)\n",
      "fig.gca().axis([0,1,-1,1])"
     ],
     "language": "python",
     "metadata": {},
     "outputs": [
      {
       "metadata": {},
       "output_type": "pyout",
       "prompt_number": 9,
       "text": [
        "[0, 1, -1, 1]"
       ]
      },
      {
       "metadata": {},
       "output_type": "display_data",
       "png": "[encoded data removed]",
       "text": [
        "<matplotlib.figure.Figure at 0x1097066d0>"
       ]
      }
     ],
     "prompt_number": 9
    },
    {
     "cell_type": "code",
     "collapsed": false,
     "input": [
      "gamma = X.path(P)\n",
      "gamma = gamma.segments[-2]\n",
      "\n",
      "t = P.t\n",
      "omega_local = omega[0].localize(P).n()\n",
      "omega_local = sympy.lambdify(t,omega_local,'numpy')\n",
      "\n",
      "# extract relevant information about the Puiseux series                                                                                                                                                                               \n",
      "p = P.puiseux_series\n",
      "x0 = numpy.complex(gamma.x0)\n",
      "y0 = numpy.complex(gamma.y0[0])\n",
      "center = numpy.complex(p.center)\n",
      "xcoefficient = numpy.complex(p.xcoefficient)\n",
      "e = numpy.int(p.ramification_index)\n",
      "\n",
      "print '\\nPuiseux Data:'\n",
      "print '\\tp:     ',p\n",
      "print '\\tx0:    ',x0\n",
      "print '\\ty0:    ',y0\n",
      "print '\\tcenter:',center\n",
      "print '\\txcoeff:',xcoefficient\n",
      "print '\\tramif: ',e \n",
      "\n",
      "# the parameter of the path s \\in [0,1] does not necessarily                                                                                                                                                                          \n",
      "# match with the local coordinate t of the place. perform the                                                                                                                                                                         \n",
      "# appropriate scaling on the integral.                                                                                                                                                                                                \n",
      "tprim = ((x0-center)/xcoefficient)**(1./e)\n",
      "unity = [numpy.exp(2.j*numpy.pi*k/e) for k in range(e)]\n",
      "tall = [unity[k]*tprim for k in range(e)]\n",
      "ytprim = numpy.array([p.eval_y(tk) for tk in tall],dtype=numpy.complex)\n",
      "\n",
      "print '\\ny-vals:', tall\n",
      "print 'pevals:', ytprim\n",
      "print 'target:', y0\n",
      "print 'dist:  ', numpy.abs(ytprim-y0)\n",
      "\n",
      "k = numpy.argmin(numpy.abs(ytprim - y0))\n",
      "tcoefficient = tall[k]\n",
      "\n",
      "print '\\nindex: ', k\n",
      "print 'tcoeff:', tcoefficient\n",
      "\n",
      "@numpy.vectorize\n",
      "def tpath(s):\n",
      "    return tcoefficient*(1-s)\n",
      "\n",
      "@numpy.vectorize\n",
      "def omega_gamma(s):\n",
      "    dtds = -tcoefficient\n",
      "    return omega_local(tpath(s)) * dtds\n"
     ],
     "language": "python",
     "metadata": {},
     "outputs": [
      {
       "output_type": "stream",
       "stream": "stdout",
       "text": [
        "\n",
        "Puiseux Data:\n",
        "\tp:      (-t**3, -1/t**2 + t**10/3 + t**22/9 + 5*t**34/81 + 10*t**46/243 + 22*t**58/729 + O(t**64))\n",
        "\tx0:     (-0.8+0j)\n",
        "\ty0:     (-0.973468997583-1.83670992316e-40j)\n",
        "\tcenter: 0j\n",
        "\txcoeff: (-1+0j)\n",
        "\tramif:  3\n",
        "\n",
        "y-vals: [(0.92831776672255584+0j), (-0.4641588833612777+0.80394676876616988j), (-0.46415888336127831-0.80394676876616944j)]\n",
        "pevals: [-0.97366273+0.j          0.48683137-0.84321666j  0.48683137+0.84321666j]\n",
        "target: (-0.973468997583-1.83670992316e-40j)\n",
        "dist:   [  1.93734892e-04   1.68626555e+00   1.68626555e+00]\n",
        "\n",
        "index:  0\n",
        "tcoeff: (0.928317766723+0j)\n"
       ]
      }
     ],
     "prompt_number": 14
    },
    {
     "cell_type": "code",
     "collapsed": false,
     "input": [
      "import matplotlib.pyplot as plt\n",
      "s = numpy.linspace(0,1,128)\n",
      "o = omega_gamma(s)\n",
      "\n",
      "plt.plot(s,o.real,'b',s,o.imag,'r--')\n",
      "plt.axis([0,1,-5,5])"
     ],
     "language": "python",
     "metadata": {},
     "outputs": [
      {
       "metadata": {},
       "output_type": "pyout",
       "prompt_number": 15,
       "text": [
        "[0, 1, -5, 5]"
       ]
      },
      {
       "metadata": {},
       "output_type": "display_data",
       "png": "[encoded data removed]",
       "text": [
        "<matplotlib.figure.Figure at 0x108f34290>"
       ]
      }
     ],
     "prompt_number": 15
    },
    {
     "cell_type": "code",
     "collapsed": false,
     "input": [
      "3*numpy.random.rand(1,4)"
     ],
     "language": "python",
     "metadata": {},
     "outputs": [
      {
       "metadata": {},
       "output_type": "pyout",
       "prompt_number": 14,
       "text": [
        "array([[ 2.95344485,  2.85946917,  1.04199449,  2.85171335]])"
       ]
      }
     ],
     "prompt_number": 14
    },
    {
     "cell_type": "code",
     "collapsed": false,
     "input": [
      "numpy.random.randint(-5,5,size=(4,1))"
     ],
     "language": "python",
     "metadata": {},
     "outputs": [
      {
       "metadata": {},
       "output_type": "pyout",
       "prompt_number": 16,
       "text": [
        "array([[-2],\n",
        "       [-2],\n",
        "       [-3],\n",
        "       [ 4]])"
       ]
      }
     ],
     "prompt_number": 16
    },
    {
     "cell_type": "code",
     "collapsed": false,
     "input": [],
     "language": "python",
     "metadata": {},
     "outputs": []
    }
   ],
   "metadata": {}
  }
 ]
}