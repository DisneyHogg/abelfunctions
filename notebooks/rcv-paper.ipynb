{
 "metadata": {
  "name": "",
  "signature": "sha256:0002ba58dec6179a772c36a4cc78e5c84b20a3bf7e87a2cff33e1311c4603180"
 },
 "nbformat": 3,
 "nbformat_minor": 0,
 "worksheets": [
  {
   "cells": [
    {
     "cell_type": "markdown",
     "metadata": {},
     "source": [
      "Computing the Riemann Constant Vector\n",
      "====================================="
     ]
    },
    {
     "cell_type": "code",
     "collapsed": false,
     "input": [
      "from sympy.abc import x,y\n",
      "from abelfunctions import (RiemannSurface, RiemannTheta, Jacobian,\n",
      "                           AbelMap, RiemannConstantVector, puiseux)\n",
      "\n",
      "f = x**2*y**3 - x**4 + 1\n",
      "X = RiemannSurface(f,x,y)\n",
      "g = X.genus()\n",
      "omega = X.holomorphic_differentials()\n",
      "\n",
      "print 'differentials:'\n",
      "for omegai in omega:\n",
      "    print omegai\n",
      "print 'genus:', g"
     ],
     "language": "python",
     "metadata": {},
     "outputs": [
      {
       "output_type": "stream",
       "stream": "stdout",
       "text": [
        "differentials:\n",
        "1/(3*x**2*y**2)\n",
        "x/(3*x**2*y**2)\n",
        "x*y/(3*x**2*y**2)\n",
        "x**2/(3*x**2*y**2)\n",
        "genus: 4\n"
       ]
      }
     ],
     "prompt_number": 1
    },
    {
     "cell_type": "code",
     "collapsed": false,
     "input": [
      "%matplotlib inline\n",
      "\n",
      "a = X.a_cycles()\n",
      "b = X.b_cycles()\n",
      "\n",
      "# use 256 points to plot the x- and y-parts of the path\n",
      "figx = a[0].plot_x(256, color='blue', linewidth=2, linestyle='dashed')\n",
      "figy = a[0].plot_y(256, color='green', linewidth=2)"
     ],
     "language": "python",
     "metadata": {},
     "outputs": [
      {
       "metadata": {},
       "output_type": "display_data",
       "png": "[encoded data removed]",
       "text": [
        "<matplotlib.figure.Figure at 0x1033ac610>"
       ]
      },
      {
       "metadata": {},
       "output_type": "display_data",
       "png": "[encoded data removed]",
       "text": [
        "<matplotlib.figure.Figure at 0x1033ac5d0>"
       ]
      }
     ],
     "prompt_number": 2
    },
    {
     "cell_type": "code",
     "collapsed": false,
     "input": [
      "#figx.savefig('/Users/cswiercz/papers-private/rcv/a1x.eps')\n",
      "#figy.savefig('/Users/cswiercz/papers-private/rcv/a1y.eps')"
     ],
     "language": "python",
     "metadata": {},
     "outputs": [],
     "prompt_number": 3
    },
    {
     "cell_type": "code",
     "collapsed": false,
     "input": [
      "# for brevity, we only print the first four significant digits\n",
      "import numpy\n",
      "numpy.set_printoptions(precision=4, suppress=True)\n",
      "\n",
      "tau = X.period_matrix()\n",
      "A = tau[:g,:g]\n",
      "B = tau[:g,g:]\n",
      "Omega = X.riemann_matrix() # returns A**(-1)*B\n",
      "\n",
      "print A\n",
      "print\n",
      "print B\n",
      "print\n",
      "print Omega"
     ],
     "language": "python",
     "metadata": {},
     "outputs": [
      {
       "output_type": "stream",
       "stream": "stdout",
       "text": [
        "[[ 0.2800+1.045j   0.2800-0.485j  -1.8100+1.045j   0.0000-0.j    ]\n",
        " [ 0.6625-1.1475j  0.6625+0.3825j -0.6625-1.1475j  0.0000+1.53j  ]\n",
        " [-0.8347+0.4819j -0.8347+0.4819j  0.8347-1.4457j  0.0000+1.9276j]\n",
        " [-1.0450+0.28j   -1.0450+1.81j   -0.4850+0.28j    0.0000+0.j    ]]\n",
        "\n",
        "[[-0.2800+0.485j   0.2800-1.045j   0.0000-2.09j    0.7650-1.325j ]\n",
        " [ 0.6625+0.3825j -0.6625+0.3825j  0.0000-0.765j   0.0000-1.53j  ]\n",
        " [-0.8347+0.4819j  0.8347-1.4457j  0.0000-0.9638j -1.6694-0.9638j]\n",
        " [ 1.0450-1.81j   -1.0450-0.28j   -0.0000-0.56j    0.7650-1.325j ]]\n",
        "\n",
        "[[ 0.3934+0.795j  -0.7541-0.3691j -0.4426-0.0284j  0.2049+0.2697j]\n",
        " [-0.7541-0.3691j  0.2787+0.8518j  0.0984+0.1988j -0.4344-0.1562j]\n",
        " [-0.4426-0.0284j  0.0984+0.1988j -0.3770+0.6815j -0.9180+0.4543j]\n",
        " [ 0.2049+0.2697j -0.4344-0.1562j -0.9180+0.4543j -1.2787+0.8802j]]\n"
       ]
      }
     ],
     "prompt_number": 25
    },
    {
     "cell_type": "code",
     "collapsed": false,
     "input": [
      "symmetric_error = numpy.linalg.norm(Omega - Omega.T)\n",
      "imag_part_evals = numpy.linalg.eigvals(Omega.imag)\n",
      "\n",
      "print 'error:', symmetric_error\n",
      "print 'evals:', imag_part_evals"
     ],
     "language": "python",
     "metadata": {},
     "outputs": [
      {
       "output_type": "stream",
       "stream": "stdout",
       "text": [
        "error: 3.54420172099e-10\n",
        "evals: [ 1.4038  1.1654  0.4294  0.21  ]\n"
       ]
      }
     ],
     "prompt_number": 26
    },
    {
     "cell_type": "code",
     "collapsed": false,
     "input": [
      "places_above_zero = X(0)\n",
      "print places_above_zero"
     ],
     "language": "python",
     "metadata": {},
     "outputs": [
      {
       "output_type": "stream",
       "stream": "stdout",
       "text": [
        "[(-t**3, -1/t**2 + O(t**2))]\n"
       ]
      }
     ],
     "prompt_number": 27
    },
    {
     "cell_type": "code",
     "collapsed": false,
     "input": [
      "print 'Places:'\n",
      "places_above_two = X(2)\n",
      "for P in places_above_two:\n",
      "    print P\n",
      "    \n",
      "print 'Puiseux:'\n",
      "series_at_two = puiseux(f,x,y,2)\n",
      "for p in series_at_two:\n",
      "    print p "
     ],
     "language": "python",
     "metadata": {},
     "outputs": [
      {
       "output_type": "stream",
       "stream": "stdout",
       "text": [
        "Places:\n",
        "(2, RootOf(4*_y**3 - 15, 0))\n",
        "(2, RootOf(4*_y**3 - 15, 1))\n",
        "(2, RootOf(4*_y**3 - 15, 2))\n",
        "Puiseux:\n",
        "(t + 2, RootOf(4*_y**3 - 15, 0) + 17*t*RootOf(4*_y**3 - 15, 0)/45 + O(t**2))"
       ]
      },
      {
       "output_type": "stream",
       "stream": "stdout",
       "text": [
        "\n",
        "(t + 2, RootOf(4*_y**3 - 15, 1) + 17*t*RootOf(4*_y**3 - 15, 1)/45 + O(t**2))"
       ]
      },
      {
       "output_type": "stream",
       "stream": "stdout",
       "text": [
        "\n",
        "(t + 2, RootOf(4*_y**3 - 15, 2) + 17*t*RootOf(4*_y**3 - 15, 2)/45 + O(t**2))"
       ]
      },
      {
       "output_type": "stream",
       "stream": "stdout",
       "text": [
        "\n"
       ]
      }
     ],
     "prompt_number": 29
    },
    {
     "cell_type": "code",
     "collapsed": false,
     "input": [
      "P = places_above_zero[0]\n",
      "Q = places_above_two[0]\n",
      "D = 3*P + Q\n",
      "\n",
      "print 'Divisor:', D\n",
      "print 'Degree:', D.degree"
     ],
     "language": "python",
     "metadata": {},
     "outputs": [
      {
       "output_type": "stream",
       "stream": "stdout",
       "text": [
        "Divisor: (2, RootOf(4*_y**3 - 15, 0)) + 3(-t**3, -1/t**2 + O(t**2))\n",
        "Degree: 4\n"
       ]
      }
     ],
     "prompt_number": 30
    },
    {
     "cell_type": "code",
     "collapsed": false,
     "input": [
      "D2 = sum(places_above_two)\n",
      "print D2"
     ],
     "language": "python",
     "metadata": {},
     "outputs": [
      {
       "output_type": "stream",
       "stream": "stdout",
       "text": [
        "(2, RootOf(4*_y**3 - 15, 0)) + (2, RootOf(4*_y**3 - 15, 2)) + (2, RootOf(4*_y**3 - 15, 1))\n"
       ]
      }
     ],
     "prompt_number": 31
    },
    {
     "cell_type": "code",
     "collapsed": false,
     "input": [
      "J = Jacobian(X)   # reduces vectors modulo lattice ZZ^g + Omega ZZ^g\n",
      "z1 = AbelMap(P)   # Abel map from P0 to P\n",
      "z2 = AbelMap(Q)   # Abel map from P0 to Q\n",
      "z3 = AbelMap(P,Q) # Abel map from P to Q\n",
      "print z1\n",
      "print z2\n",
      "print z3\n",
      "\n",
      "# numerically verify that A(P,Q) = A(P0,Q) - A(P0,P)\n",
      "print numpy.linalg.norm( J((z2-z1) - z3) )"
     ],
     "language": "python",
     "metadata": {},
     "outputs": [
      {
       "output_type": "stream",
       "stream": "stdout",
       "text": [
        "[[-0.5261+0.0864j  0.0669+0.6392j -0.7495+1.1037j -1.5030+1.0356j]]\n",
        "[[-0.3875+0.1157j -0.0290+0.4437j -0.4532+0.7774j -0.9721+0.6732j]]\n",
        "[[ 0.1468-0.0985j  0.8467+0.6989j  0.0996+1.0083j -1.1003+0.8159j]]\n",
        "2.03169087533e-16\n"
       ]
      }
     ],
     "prompt_number": 32
    },
    {
     "cell_type": "code",
     "collapsed": false,
     "input": [
      "w = AbelMap(D)\n",
      "print w\n",
      "\n",
      "# verify that w = 3*z1 + z2 mod period lattice\n",
      "z = J(3*z1 + z2)\n",
      "print numpy.linalg.norm(w-z)"
     ],
     "language": "python",
     "metadata": {},
     "outputs": [
      {
       "output_type": "stream",
       "stream": "stdout",
       "text": [
        "[[ 0.0670-0.1361j  0.9421+0.7429j -0.4887+0.7663j -1.5057+0.6992j]]\n",
        "1.32763364115e-15\n"
       ]
      }
     ],
     "prompt_number": 33
    },
    {
     "cell_type": "code",
     "collapsed": false,
     "input": [
      "C0 = omega[0].valuation_divisor()\n",
      "for place,multiplicity in C0:\n",
      "    print multiplicity, place\n",
      "print 'Degree:', C0.degree"
     ],
     "language": "python",
     "metadata": {},
     "outputs": [
      {
       "output_type": "stream",
       "stream": "stdout",
       "text": [
        "6 (t**(-3), t**(-2) + O(t**2))\n",
        "Degree: 6\n"
       ]
      }
     ],
     "prompt_number": 34
    },
    {
     "cell_type": "code",
     "collapsed": false,
     "input": [
      "C1 = omega[1].valuation_divisor()\n",
      "for place,multiplicity in C1:\n",
      "    print multiplicity, place   \n",
      "print 'Degree:', C1.degree"
     ],
     "language": "python",
     "metadata": {},
     "outputs": [
      {
       "output_type": "stream",
       "stream": "stdout",
       "text": [
        "3 (-t**3, -1/t**2 + O(t**2))\n",
        "3 (t**(-3), t**(-2) + O(t**2))\n",
        "Degree: 6\n"
       ]
      }
     ],
     "prompt_number": 35
    },
    {
     "cell_type": "code",
     "collapsed": false,
     "input": [
      "C2 = omega[2].valuation_divisor()\n",
      "for place,multiplicity in C2:\n",
      "    print multiplicity, place\n",
      "print 'Degree:', C2.degree"
     ],
     "language": "python",
     "metadata": {},
     "outputs": [
      {
       "output_type": "stream",
       "stream": "stdout",
       "text": [
        "1 (-t**3*RootOf(_x**2 + 1, 1)/4 + RootOf(_x**2 + 1, 1), t + O(t**2))\n",
        "1 (t**3/4 + 1, t + O(t**2))\n",
        "1 (-t**3, -1/t**2 + O(t**2))\n",
        "1 (t**(-3), t**(-2) + O(t**2))\n",
        "1 (-t**3/4 - 1, t + O(t**2))\n",
        "1 (-t**3*RootOf(_x**2 + 1, 0)/4 + RootOf(_x**2 + 1, 0), t + O(t**2))"
       ]
      },
      {
       "output_type": "stream",
       "stream": "stdout",
       "text": [
        "\n",
        "Degree: 6\n"
       ]
      }
     ],
     "prompt_number": 36
    },
    {
     "cell_type": "code",
     "collapsed": false,
     "input": [
      "C3 = omega[3].valuation_divisor()\n",
      "for place,multiplicity in C3:\n",
      "    print multiplicity, place\n",
      "print 'Degree:', C3.degree"
     ],
     "language": "python",
     "metadata": {},
     "outputs": [
      {
       "output_type": "stream",
       "stream": "stdout",
       "text": [
        "6 (-t**3, -1/t**2 + O(t**2))\n",
        "Degree: 6\n"
       ]
      }
     ],
     "prompt_number": 37
    },
    {
     "cell_type": "code",
     "collapsed": false,
     "input": [
      "K = RiemannConstantVector # alias the RCV function for brevity\n",
      "P0 = X.base_place()\n",
      "print K(P0)"
     ],
     "language": "python",
     "metadata": {},
     "outputs": [
      {
       "output_type": "stream",
       "stream": "stdout",
       "text": [
        "[[ 0.8488+0.7203j -0.5941-0.1146j -0.7432+0.8913j -0.8189+1.1381j]]\n"
       ]
      }
     ],
     "prompt_number": 56
    },
    {
     "cell_type": "code",
     "collapsed": false,
     "input": [
      "z = J(2*K(P0) + AbelMap(C3))\n",
      "print z"
     ],
     "language": "python",
     "metadata": {},
     "outputs": [
      {
       "output_type": "stream",
       "stream": "stdout",
       "text": [
        "[[-0.-0.j -0.+0.j  0.-0.j -0.+0.j]]\n"
       ]
      }
     ],
     "prompt_number": 57
    },
    {
     "cell_type": "code",
     "collapsed": false,
     "input": [
      "W = K(P0)\n",
      "v = RiemannTheta.oscillatory_part(W,Omega)\n",
      "print abs(v)"
     ],
     "language": "python",
     "metadata": {},
     "outputs": [
      {
       "output_type": "stream",
       "stream": "stdout",
       "text": [
        "2.60180220233e-08\n"
       ]
      }
     ],
     "prompt_number": 58
    },
    {
     "cell_type": "code",
     "collapsed": false,
     "input": [
      "D = sum(places_above_two)\n",
      "W = J(AbelMap(D) + K(P0))\n",
      "v = RiemannTheta.oscillatory_part(W, Omega)\n",
      "print abs(v)"
     ],
     "language": "python",
     "metadata": {},
     "outputs": [
      {
       "output_type": "stream",
       "stream": "stdout",
       "text": [
        "1.09500069058e-10\n"
       ]
      }
     ],
     "prompt_number": 59
    },
    {
     "cell_type": "markdown",
     "metadata": {},
     "source": [
      "Additional Code\n",
      "===============\n",
      "\n",
      "The following code generates Figure 1."
     ]
    },
    {
     "cell_type": "code",
     "collapsed": false,
     "input": [
      "import matplotlib.pyplot as plt\n",
      "from abelfunctions.riemann_constant_vector import initialize_half_lattice_vectors"
     ],
     "language": "python",
     "metadata": {},
     "outputs": [],
     "prompt_number": 32
    },
    {
     "cell_type": "code",
     "collapsed": false,
     "input": [
      "h = initialize_half_lattice_vectors(X)\n",
      "V = 0.5*AbelMap(C3)\n",
      "\n",
      "oscillatory_parts = [\n",
      "    RiemannTheta.oscillatory_part(J(hi.T-V),Omega)\n",
      "    for hi in h\n",
      "]\n",
      "oscillatory_magnitudes = sorted(map(abs,oscillatory_parts))"
     ],
     "language": "python",
     "metadata": {},
     "outputs": [],
     "prompt_number": 43
    },
    {
     "cell_type": "code",
     "collapsed": false,
     "input": [
      "%matplotlib inline\n",
      "\n",
      "fig = plt.figure()\n",
      "ax = fig.add_subplot(111)\n",
      "ax.semilogy(range(256), oscillatory_magnitudes,\n",
      "            linestyle='', marker='d',markerfacecolor='grey',markersize=8)\n",
      "ax.axis([-32,256+32,1e-9,10])\n",
      "ax.set_xticks([-32] + [32*k for k in range(10)])\n",
      "ax.set_xticklabels([''] + [str(32*k) for k in range(9)] + [''])\n",
      "ax.grid(True)\n",
      "fig.set_figwidth(9)\n",
      "fig.set_figheight(4)\n",
      "\n",
      "fig.show()"
     ],
     "language": "python",
     "metadata": {},
     "outputs": [
      {
       "metadata": {},
       "output_type": "display_data",
       "png": "[encoded data removed]",
       "text": [
        "<matplotlib.figure.Figure at 0x10af1dc90>"
       ]
      }
     ],
     "prompt_number": 44
    },
    {
     "cell_type": "code",
     "collapsed": false,
     "input": [
      "#savefig('/Users/cswiercz/papers-private/rcv/a1y.eps')"
     ],
     "language": "python",
     "metadata": {},
     "outputs": []
    },
    {
     "cell_type": "code",
     "collapsed": false,
     "input": [],
     "language": "python",
     "metadata": {},
     "outputs": []
    },
    {
     "cell_type": "code",
     "collapsed": false,
     "input": [],
     "language": "python",
     "metadata": {},
     "outputs": []
    }
   ],
   "metadata": {}
  }
 ]
}