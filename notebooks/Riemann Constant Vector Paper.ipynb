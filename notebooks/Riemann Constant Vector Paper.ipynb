{
 "metadata": {
  "name": "",
  "signature": "sha256:3d1245448c5b593b887e5f6174706d051d652e5af34e9a5c6b81f64d6002e506"
 },
 "nbformat": 3,
 "nbformat_minor": 0,
 "worksheets": [
  {
   "cells": [
    {
     "cell_type": "markdown",
     "metadata": {},
     "source": [
      "Computing the Riemann Constant Vector\n",
      "====================================="
     ]
    },
    {
     "cell_type": "code",
     "collapsed": false,
     "input": [
      "from sympy.abc import x,y\n",
      "from abelfunctions import (RiemannSurface, RiemannTheta, Jacobian,\n",
      "                           AbelMap, RiemannConstantVector, puiseux)\n",
      "\n",
      "f = x**2*y**3 - x**4 + 1\n",
      "X = RiemannSurface(f,x,y)\n",
      "g = X.genus()\n",
      "omega = X.holomorphic_differentials()\n",
      "\n",
      "print 'differentials:'\n",
      "for omegai in omega:\n",
      "    print omegai\n",
      "print 'genus:', g"
     ],
     "language": "python",
     "metadata": {},
     "outputs": []
    },
    {
     "cell_type": "code",
     "collapsed": false,
     "input": [
      "%matplotlib inline\n",
      "\n",
      "a = X.a_cycles()\n",
      "b = X.b_cycles()\n",
      "\n",
      "# use 256 points to plot the x- and y-parts of the path\n",
      "figx = a[0].plot_x(256, color='blue', linewidth=2, linestyle='dashed')\n",
      "figy = a[0].plot_y(256, color='green', linewidth=2)"
     ],
     "language": "python",
     "metadata": {},
     "outputs": []
    },
    {
     "cell_type": "code",
     "collapsed": false,
     "input": [
      "#figx.savefig('/Users/cswiercz/papers-private/rcv/a1x.eps')\n",
      "#figy.savefig('/Users/cswiercz/papers-private/rcv/a1y.eps')"
     ],
     "language": "python",
     "metadata": {},
     "outputs": []
    },
    {
     "cell_type": "code",
     "collapsed": false,
     "input": [
      "# for brevity, we only print the first four significant digits\n",
      "import numpy\n",
      "numpy.set_printoptions(precision=4, suppress=True)\n",
      "\n",
      "tau = X.period_matrix()\n",
      "A = tau[:g,:g]\n",
      "B = tau[:g,g:]\n",
      "Omega = X.riemann_matrix() # returns A**(-1)*B\n",
      "\n",
      "print A\n",
      "print\n",
      "print B\n",
      "print\n",
      "print Omega"
     ],
     "language": "python",
     "metadata": {},
     "outputs": []
    },
    {
     "cell_type": "code",
     "collapsed": false,
     "input": [
      "symmetric_error = numpy.linalg.norm(Omega - Omega.T)\n",
      "imag_part_evals = numpy.linalg.eigvals(Omega.imag)\n",
      "\n",
      "print 'error:', symmetric_error\n",
      "print 'evals:', imag_part_evals"
     ],
     "language": "python",
     "metadata": {},
     "outputs": []
    },
    {
     "cell_type": "code",
     "collapsed": false,
     "input": [
      "places_above_zero = X(0)\n",
      "print places_above_zero"
     ],
     "language": "python",
     "metadata": {},
     "outputs": []
    },
    {
     "cell_type": "code",
     "collapsed": false,
     "input": [
      "print 'Places:'\n",
      "places_above_two = X(2)\n",
      "for P in places_above_two:\n",
      "    print P\n",
      "    \n",
      "print 'Puiseux:'\n",
      "series_at_two = puiseux(f,x,y,2)\n",
      "for p in series_at_two:\n",
      "    print p "
     ],
     "language": "python",
     "metadata": {},
     "outputs": []
    },
    {
     "cell_type": "code",
     "collapsed": false,
     "input": [
      "P = places_above_zero[0]\n",
      "Q = places_above_two[0]\n",
      "D = 3*P + Q\n",
      "\n",
      "print 'Divisor:', D\n",
      "print 'Degree:', D.degree"
     ],
     "language": "python",
     "metadata": {},
     "outputs": []
    },
    {
     "cell_type": "code",
     "collapsed": false,
     "input": [
      "D2 = sum(places_above_two)\n",
      "print D2"
     ],
     "language": "python",
     "metadata": {},
     "outputs": []
    },
    {
     "cell_type": "code",
     "collapsed": false,
     "input": [
      "J = Jacobian(X)   # reduces vectors modulo lattice ZZ^g + Omega ZZ^g\n",
      "z1 = AbelMap(P)   # Abel map from P0 to P\n",
      "z2 = AbelMap(Q)   # Abel map from P0 to Q\n",
      "z3 = AbelMap(P,Q) # Abel map from P to Q\n",
      "print z1\n",
      "print z2\n",
      "print z3\n",
      "\n",
      "# numerically verify that A(P,Q) = A(P0,Q) - A(P0,P)\n",
      "print numpy.linalg.norm( J((z2-z1) - z3) )"
     ],
     "language": "python",
     "metadata": {},
     "outputs": []
    },
    {
     "cell_type": "code",
     "collapsed": false,
     "input": [
      "w = AbelMap(D)\n",
      "print w\n",
      "\n",
      "# verify that w = 3*z1 + z2 mod period lattice\n",
      "z = J(3*z1 + z2)\n",
      "print numpy.linalg.norm(w-z)"
     ],
     "language": "python",
     "metadata": {},
     "outputs": []
    },
    {
     "cell_type": "code",
     "collapsed": false,
     "input": [
      "C0 = omega[0].valuation_divisor()\n",
      "for place,multiplicity in C0:\n",
      "    print multiplicity, place\n",
      "print 'Degree:', C0.degree"
     ],
     "language": "python",
     "metadata": {},
     "outputs": []
    },
    {
     "cell_type": "code",
     "collapsed": false,
     "input": [
      "C1 = omega[1].valuation_divisor()\n",
      "for place,multiplicity in C1:\n",
      "    print multiplicity, place   \n",
      "print 'Degree:', C1.degree"
     ],
     "language": "python",
     "metadata": {},
     "outputs": []
    },
    {
     "cell_type": "code",
     "collapsed": false,
     "input": [
      "C2 = omega[2].valuation_divisor()\n",
      "for place,multiplicity in C2:\n",
      "    print multiplicity, place\n",
      "print 'Degree:', C2.degree"
     ],
     "language": "python",
     "metadata": {},
     "outputs": []
    },
    {
     "cell_type": "code",
     "collapsed": false,
     "input": [
      "C3 = omega[3].valuation_divisor()\n",
      "for place,multiplicity in C3:\n",
      "    print multiplicity, place\n",
      "print 'Degree:', C3.degree"
     ],
     "language": "python",
     "metadata": {},
     "outputs": []
    },
    {
     "cell_type": "code",
     "collapsed": false,
     "input": [
      "K = RiemannConstantVector # alias the RCV function for brevity\n",
      "P0 = X.base_place()\n",
      "print K(P0)"
     ],
     "language": "python",
     "metadata": {},
     "outputs": []
    },
    {
     "cell_type": "code",
     "collapsed": false,
     "input": [
      "z = J(2*K(P0) + AbelMap(C3))\n",
      "print z"
     ],
     "language": "python",
     "metadata": {},
     "outputs": []
    },
    {
     "cell_type": "code",
     "collapsed": false,
     "input": [
      "W = K(P0)\n",
      "v = RiemannTheta.oscillatory_part(W,Omega)\n",
      "print abs(v)"
     ],
     "language": "python",
     "metadata": {},
     "outputs": []
    },
    {
     "cell_type": "code",
     "collapsed": false,
     "input": [
      "D = sum(places_above_two)\n",
      "W = J(AbelMap(D) + K(P0))\n",
      "v = RiemannTheta.oscillatory_part(W, Omega)\n",
      "print abs(v)"
     ],
     "language": "python",
     "metadata": {},
     "outputs": []
    },
    {
     "cell_type": "markdown",
     "metadata": {},
     "source": [
      "Additional Code\n",
      "===============\n",
      "\n",
      "The following code generates Figure 1."
     ]
    },
    {
     "cell_type": "code",
     "collapsed": false,
     "input": [
      "import matplotlib.pyplot as plt\n",
      "from abelfunctions.riemann_constant_vector import initialize_half_lattice_vectors"
     ],
     "language": "python",
     "metadata": {},
     "outputs": []
    },
    {
     "cell_type": "code",
     "collapsed": false,
     "input": [
      "h = initialize_half_lattice_vectors(X)\n",
      "V = 0.5*AbelMap(C3)\n",
      "\n",
      "oscillatory_parts = [\n",
      "    RiemannTheta.oscillatory_part(J(hi.T-V),Omega)\n",
      "    for hi in h\n",
      "]\n",
      "oscillatory_magnitudes = sorted(map(abs,oscillatory_parts))"
     ],
     "language": "python",
     "metadata": {},
     "outputs": []
    },
    {
     "cell_type": "code",
     "collapsed": false,
     "input": [
      "%matplotlib inline\n",
      "\n",
      "fig = plt.figure()\n",
      "ax = fig.add_subplot(111)\n",
      "ax.semilogy(range(256), oscillatory_magnitudes,\n",
      "            linestyle='', marker='d',markerfacecolor='grey',markersize=8)\n",
      "ax.axis([-32,256+32,1e-9,10])\n",
      "ax.set_xticks([-32] + [32*k for k in range(10)])\n",
      "ax.set_xticklabels([''] + [str(32*k) for k in range(9)] + [''])\n",
      "ax.grid(True)\n",
      "fig.set_figwidth(9)\n",
      "fig.set_figheight(4)\n",
      "\n",
      "fig.show()"
     ],
     "language": "python",
     "metadata": {},
     "outputs": []
    },
    {
     "cell_type": "code",
     "collapsed": false,
     "input": [
      "#savefig('/Users/cswiercz/papers-private/rcv/a1y.eps')"
     ],
     "language": "python",
     "metadata": {},
     "outputs": []
    },
    {
     "cell_type": "code",
     "collapsed": false,
     "input": [],
     "language": "python",
     "metadata": {},
     "outputs": []
    },
    {
     "cell_type": "code",
     "collapsed": false,
     "input": [],
     "language": "python",
     "metadata": {},
     "outputs": []
    }
   ],
   "metadata": {}
  }
 ]
}