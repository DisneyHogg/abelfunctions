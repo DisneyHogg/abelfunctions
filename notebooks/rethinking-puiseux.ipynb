{
 "metadata": {
  "name": "",
  "signature": "sha256:22b44b6f59779c313365114c598af4706b8c24e0e86ab8b65008ec68ae436aec"
 },
 "nbformat": 3,
 "nbformat_minor": 0,
 "worksheets": [
  {
   "cells": [
    {
     "cell_type": "code",
     "collapsed": false,
     "input": [
      "import sympy\n",
      "from sympy import Rational, Poly, gcd, lcm, flatten\n",
      "from sympy.abc import x,y,t,s\n",
      "\n",
      "class PuiseuxSeries(object):\n",
      "    @property\n",
      "    def _poly(self):\n",
      "        return self.__poly\n",
      "    @property\n",
      "    def _polyvar(self):\n",
      "        return self.__polyvar\n",
      "    @property\n",
      "    def center(self):\n",
      "        return self._center    \n",
      "    @property\n",
      "    def ramification_index(self):\n",
      "        return self._ramification_index\n",
      "    @property\n",
      "    def var(self):\n",
      "        return self._var\n",
      "    @property\n",
      "    def order(self):\n",
      "        return self._order\n",
      "    @order.setter\n",
      "    def order(self, value):\n",
      "        p = self._poly\n",
      "        s = self._polyvar\n",
      "        e = self.ramification_index\n",
      "        base_order = self._poly.degree() + 1\n",
      "        \n",
      "        if value:\n",
      "            self._order = value\n",
      "        else:\n",
      "            self._order = Rational(base_order,self.ramification_index)\n",
      "            \n",
      "        if self._order*e < base_order:            \n",
      "            p += sympy.O(s**(self._order*e))\n",
      "            self.__poly = p.removeO().as_poly(self._polyvar)\n",
      "            \n",
      "    @property\n",
      "    def valuation(self):\n",
      "        base_valuation = min(flatten(self._poly.monoms()))\n",
      "        return Rational(base_valuation, self.ramification_index)\n",
      "\n",
      "    def __init__(self, poly, var, center, ramification_index, order=None):\n",
      "        self.__poly = poly\n",
      "        self.__polyvar = list(poly.free_symbols)[0]\n",
      "        self._var = var\n",
      "        self._center = center\n",
      "        self._ramification_index = ramification_index\n",
      "        self.order = order\n",
      "        \n",
      "    def __repr__(self):\n",
      "        x = self.var\n",
      "        a = self.center\n",
      "        e = self.ramification_index\n",
      "        s = ''\n",
      "        for (exp,),coeff in self._poly.terms():\n",
      "            if exp:\n",
      "                if coeff == 1:\n",
      "                    coeff = ''\n",
      "                elif coeff == -1:\n",
      "                    if len(s):\n",
      "                        s = s[:-2]\n",
      "                        coeff = '- '\n",
      "                    else:\n",
      "                        coeff = '-'\n",
      "\n",
      "                s += '%s(%s-%s)**(%s/%s) + '%(coeff,x,a,exp,e)\n",
      "            else:\n",
      "                s += '%s + '%(coeff)\n",
      "\n",
      "        order = self.order\n",
      "        n = order*e\n",
      "        s += 'O((%s-%s)**(%s/%s))'%(x,a,n,e)\n",
      "        return s\n",
      "    \n",
      "    @classmethod\n",
      "    def _determine_common_ramificaiton_index(self, other):\n",
      "        e = self.ramification_index\n",
      "        f = other.ramification_index\n",
      "        \n",
      "    def __add__(self, other):\n",
      "        P,Q = unify_puiseux_series(self,other)\n",
      "        p = P._poly\n",
      "        q = Q._poly\n",
      "        \n",
      "        order = min(P.order,Q.order)\n",
      "        r = p + q\n",
      "        return PuiseuxSeries(p+q, P.var, P.center, P.ramification_index, order=order)\n",
      "    \n",
      "    def __mul__(self, other):\n",
      "        P,Q = unify_puiseux_series(self,other)\n",
      "        p = P._poly\n",
      "        q = Q._poly\n",
      "        \n",
      "        order = min(P.valuation + Q.order, P.order + Q.valuation)\n",
      "        r = p.mul(q)\n",
      "        return PuiseuxSeries(r, P.var, P.center, P.ramification_index, order=order)\n",
      "    \n",
      "    def eval(self, x):\n",
      "        sx = (x-self.center)**Rational(1,self.ramification_index)\n",
      "        return self._poly.eval(sx)\n",
      "    \n",
      "        \n",
      "\n",
      "        \n",
      "def unify_puiseux_series(P,Q):\n",
      "    a = P.center\n",
      "    b = Q.center\n",
      "    if a != b:\n",
      "        raise ValueError('Puiseux series must be in same variable.')\n",
      "    \n",
      "    x = P.var\n",
      "    y = Q.var\n",
      "    if x != y:\n",
      "        raise ValueError('Puiseux series must have same center.')\n",
      "    \n",
      "    p = P._poly\n",
      "    s = P._polyvar\n",
      "    e = P.ramification_index\n",
      "    \n",
      "    q = Q._poly\n",
      "    t = Q._polyvar\n",
      "    f = Q.ramification_index\n",
      "    \n",
      "    g = lcm(e,f)\n",
      "    m = g/e\n",
      "    n = g/f\n",
      "    \n",
      "    p = p.compose((s**m).as_poly(s))\n",
      "    q = q.compose((t**n).as_poly(t))\n",
      "    \n",
      "    Porder = P.order\n",
      "    Qorder = Q.order\n",
      "    P = PuiseuxSeries(p,x,a,g,order=Porder)\n",
      "    Q = PuiseuxSeries(q,x,a,g,order=Qorder)\n",
      "    return P,Q\n"
     ],
     "language": "python",
     "metadata": {},
     "outputs": [],
     "prompt_number": 242
    },
    {
     "cell_type": "code",
     "collapsed": false,
     "input": [
      "p = Poly(- s**2, s)\n",
      "P = PuiseuxSeries(p,x,1,2)\n",
      "\n",
      "q = Poly(-s + s**3, s)\n",
      "Q = PuiseuxSeries(q,x,1,3)\n",
      "\n",
      "print 'P'\n",
      "print P\n",
      "print P.order\n",
      "print '\\nQ'\n",
      "print Q\n",
      "print Q.order\n",
      "print"
     ],
     "language": "python",
     "metadata": {},
     "outputs": [
      {
       "output_type": "stream",
       "stream": "stdout",
       "text": [
        "P\n",
        "-(x-1)**(2/2) + O((x-1)**(3/2))\n",
        "3/2\n",
        "\n",
        "Q\n",
        "(x-1)**(3/3) - (x-1)**(1/3) + O((x-1)**(4/3))\n",
        "4/3\n",
        "\n"
       ]
      }
     ],
     "prompt_number": 243
    },
    {
     "cell_type": "code",
     "collapsed": false,
     "input": [
      "print P.eval(2)\n",
      "print Q.eval(2)"
     ],
     "language": "python",
     "metadata": {},
     "outputs": [
      {
       "output_type": "stream",
       "stream": "stdout",
       "text": [
        "-1\n",
        "0\n"
       ]
      }
     ],
     "prompt_number": 248
    },
    {
     "cell_type": "code",
     "collapsed": false,
     "input": [
      "R = P+Q\n",
      "print R\n",
      "print R.order"
     ],
     "language": "python",
     "metadata": {},
     "outputs": [
      {
       "output_type": "stream",
       "stream": "stdout",
       "text": [
        "-(x-1)**(2/6) + O((x-1)**(8/6))\n",
        "4/3\n"
       ]
      }
     ],
     "prompt_number": 245
    },
    {
     "cell_type": "code",
     "collapsed": false,
     "input": [
      "R = P*Q\n",
      "print R\n",
      "print R.order"
     ],
     "language": "python",
     "metadata": {},
     "outputs": [
      {
       "output_type": "stream",
       "stream": "stdout",
       "text": [
        "(x-1)**(8/6) + O((x-1)**(11/6))\n",
        "11/6\n"
       ]
      }
     ],
     "prompt_number": 239
    },
    {
     "cell_type": "code",
     "collapsed": false,
     "input": [
      "%matplotlib inline\n",
      "\n",
      "import numpy\n",
      "import matplotlib.pyplot as plt\n",
      "\n",
      "n = 21\n",
      "gpa = numpy.linspace(0,4,n)\n",
      "percentage = gpa/4.0\n",
      "\n",
      "plt.plot(percentage,gpa,'bo')"
     ],
     "language": "python",
     "metadata": {},
     "outputs": [
      {
       "metadata": {},
       "output_type": "pyout",
       "prompt_number": 261,
       "text": [
        "[<matplotlib.lines.Line2D at 0x106524f10>]"
       ]
      },
      {
       "metadata": {},
       "output_type": "display_data",
       "png": "[encoded data removed]",
       "text": [
        "<matplotlib.figure.Figure at 0x10643e0d0>"
       ]
      }
     ],
     "prompt_number": 261
    },
    {
     "cell_type": "code",
     "collapsed": false,
     "input": [
      "import scipy"
     ],
     "language": "python",
     "metadata": {},
     "outputs": [],
     "prompt_number": 262
    },
    {
     "cell_type": "code",
     "collapsed": false,
     "input": [
      "scipy.st"
     ],
     "language": "python",
     "metadata": {},
     "outputs": []
    }
   ],
   "metadata": {}
  }
 ]
}